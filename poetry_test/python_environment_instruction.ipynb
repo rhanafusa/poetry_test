{
 "cells": [
  {
   "cell_type": "markdown",
   "metadata": {},
   "source": [
    "# Pythonのパッケージ管理\n",
    "\n",
    "開発環境の保存・共有\n",
    "\n",
    "- プロジェクトごとに分けたい\n",
    "- Pythonのバージョンやモジュールのバージョンを合わせたい\n",
    "- 必要なモジュールの依存モジュールも自動的にインストールしてほしい\n",
    "\n",
    "Pythonの公式が作っているpipenvから、OSSのpoetryやpyflowに移りつつある。\n",
    "\n",
    "pipenvより前の歴史について\n",
    "\n",
    "- [Python パッケージングの標準を知ろう](https://engineer.recruit-lifestyle.co.jp/techblog/2019-12-25-python-packaging-specs/)\n",
    "- [Pythonのパッケージ周りのベストプラクティスを理解する](https://www.m3tech.blog/entry/python-packaging)"
   ]
  },
  {
   "cell_type": "markdown",
   "metadata": {},
   "source": [
    "---"
   ]
  },
  {
   "cell_type": "markdown",
   "metadata": {},
   "source": [
    "# pipenv\n",
    "\n",
    "「かなりの期間、requirements.txt でパッケージの記述していた Python のパッケージ管理 (というかライブラリ一覧を記述するだけ) の風潮を、Node.js の npm や yarn、Ruby の gem のように、依存関係も扱えるようにしたことで話題になったツールです。Pipfile というパッケージを管理するファイルと Pipfile.lock という依存関係が記述されるファイルを使います。」([2020 年の Python パッケージ管理ベストプラクティス](https://qiita.com/sk217/items/43c994640f4843a18dbe#pyenv--poetry))\n",
    "\n",
    "- not good\n",
    "    - 「体感ですが、Pipenv はインストールがかなりと遅いときがあります。」([2020 年の Python パッケージ管理ベストプラクティス](https://qiita.com/sk217/items/43c994640f4843a18dbe#pyenv--poetry))　→　個人的には、「遅いときがある」というより遅い。\n",
    "    - 以下、[Poetryについてもろもろ](https://tech.515hikaru.net/2019-11-10-poetry-dev/)から引用\n",
    "        - Pipfile は PEP で規格が規定されていない独自規格であり、実装が仕様という状態になっている\n",
    "        - requirements.txt を置き換えているのみで、setup.py のレイヤーはサポートしていない\n",
    "        - 2019年11月10日時点で最新リリースが2018年11月26日版であり、リリースが停滞している状態にある\n",
    "        \n",
    "poetryとpyflowは上記の欠点を克服している。\n",
    "\n",
    "poetryについては、さらにlinterやformatterの設定もpyproject.toml（パッケージ管理ファイル）に記述できる。"
   ]
  },
  {
   "cell_type": "markdown",
   "metadata": {},
   "source": [
    "---"
   ]
  },
  {
   "cell_type": "markdown",
   "metadata": {},
   "source": [
    "# poetryの使い方\n",
    "\n",
    "プロジェクト（ディレクトリ）の作成\n",
    "\n",
    "```console\n",
    "poetry new sample\n",
    "```\n",
    "\n",
    "プロジェクトのディレクトリが既にある場合、そのディレクトリで以下を実行\n",
    "\n",
    "```console\n",
    "poetry init\n",
    "```\n",
    "\n",
    "pyptoject.tomlに記述されている環境のインストール\n",
    "\n",
    "```console\n",
    "poetry install\n",
    "```\n",
    "\n",
    "モジュールを追加\n",
    "\n",
    "```console\n",
    "poetry add numpy\n",
    "```\n",
    "\n",
    "モジュールを削除\n",
    "\n",
    "```console\n",
    "poetry remove numpy\n",
    "```\n",
    "\n",
    "python仮想環境内で実行。`python main.py`で実行すると、システムのpythonが使用される。\n",
    "\n",
    "```console\n",
    "poetry run python main.py\n",
    "```\n",
    "\n",
    "参考：\n",
    "\n",
    "- GitHubリポジトリ：https://github.com/python-poetry/poetry\n",
    "- 公式ドキュメント：https://python-poetry.org/docs/cli/"
   ]
  },
  {
   "cell_type": "markdown",
   "metadata": {},
   "source": [
    "---"
   ]
  },
  {
   "cell_type": "markdown",
   "metadata": {},
   "source": [
    "# anaconda\n",
    "\n",
    "「Anacondaを使うなら、Pythonに関するあらゆることはすべてAnacondaに任せてしまうという気持ちが必要だ。」（[pyenv、pyenv-virtualenv、venv、Anaconda、Pipenv。私はPipenvを使う。](https://qiita.com/KRiver1/items/c1788e616b77a9bad4dd#anaconda--miniconda-conda)）\n",
    "\n",
    "- not good\n",
    "    - 「Anacondaの担当範囲があまりにも大きすぎて、他のどんな仮想環境ツールとも競合してしまう」（[pyenv、pyenv-virtualenv、venv、Anaconda、Pipenv。私はPipenvを使う。](https://qiita.com/KRiver1/items/c1788e616b77a9bad4dd#anaconda--miniconda-conda)）\n",
    "    - 「condaでインストールできないパッケージはpipでインストールすることになり，パッケージの管理が分散してしまう」（[Python開発環境メモ（2019）](https://poyo.hatenablog.jp/entry/2019/03/19/133350#Conda)）\n",
    "    - 「pipとcondaは、双方がインストールしたパッケージのことを知らないので、すでにインストールしていても上書きインストールしてしまう」（[清水川のScrapbox Anaconda](https://scrapbox.io/shimizukawa/Anaconda)）\n",
    "    - 「仮想環境のアクティベーションのためにトリッキーな小技が必要になることが多い」（[Python開発環境メモ（2019）](https://poyo.hatenablog.jp/entry/2019/03/19/133350#Conda)）"
   ]
  },
  {
   "cell_type": "code",
   "execution_count": null,
   "metadata": {},
   "outputs": [],
   "source": []
  }
 ],
 "metadata": {
  "kernelspec": {
   "display_name": "Python 3",
   "language": "python",
   "name": "python3"
  },
  "language_info": {
   "codemirror_mode": {
    "name": "ipython",
    "version": 3
   },
   "file_extension": ".py",
   "mimetype": "text/x-python",
   "name": "python",
   "nbconvert_exporter": "python",
   "pygments_lexer": "ipython3",
   "version": "3.8.2"
  }
 },
 "nbformat": 4,
 "nbformat_minor": 4
}
