{
 "cells": [
  {
   "cell_type": "code",
   "execution_count": null,
   "metadata": {},
   "outputs": [],
   "source": [
    "- Python2, 3\n",
    "- 歴史\n",
    "    - [Python パッケージングの標準を知ろう - Tech Blog - Recruit Lifestyle Engineer](https://engineer.recruit-lifestyle.co.jp/techblog/2019-12-25-python-packaging-specs/)\n",
    "    - [Pythonのパッケージ周りのベストプラクティスを理解する - エムスリーテックブログ](https://www.m3tech.blog/entry/python-packaging)\n",
    "- 開発環境の共通化って大変だよね\n",
    "- パッケージ管理ツール\n",
    "    - github\n",
    "- poetry\n",
    "- pyflow\n",
    "- Anaconda\n",
    "- 結論"
   ]
  }
 ],
 "metadata": {
  "kernelspec": {
   "display_name": "Python 3",
   "language": "python",
   "name": "python3"
  },
  "language_info": {
   "codemirror_mode": {
    "name": "ipython",
    "version": 3
   },
   "file_extension": ".py",
   "mimetype": "text/x-python",
   "name": "python",
   "nbconvert_exporter": "python",
   "pygments_lexer": "ipython3",
   "version": "3.8.2"
  }
 },
 "nbformat": 4,
 "nbformat_minor": 4
}
